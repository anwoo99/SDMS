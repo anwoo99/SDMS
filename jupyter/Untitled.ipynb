{
 "cells": [
  {
   "cell_type": "code",
   "execution_count": 1,
   "id": "863a0ee6-2ec4-49ce-993f-d762af05c985",
   "metadata": {},
   "outputs": [],
   "source": [
    "import pandas as pd\n",
    "import numpy as np\n",
    "import matplotlib.pyplot as plt\n",
    "from mpl_toolkits.mplot3d import Axes3D\n",
    "from sklearn.decomposition import PCA\n",
    "from sklearn.preprocessing import StandardScaler\n",
    "from sklearn.ensemble import IsolationForest\n",
    "from pprint import pprint\n",
    "import os\n",
    "import pickle"
   ]
  },
  {
   "cell_type": "code",
   "execution_count": 2,
   "id": "a10ace19-1448-4ff7-9419-f65cc157c5b9",
   "metadata": {},
   "outputs": [],
   "source": [
    "def rc_int2str(number):\n",
    "    string = \"\"\n",
    "\n",
    "    while number > 0:\n",
    "        remainder = number % 100\n",
    "        ch = chr(remainder)\n",
    "        string = ch + string\n",
    "        number //= 100   \n",
    "    return string\n",
    "\n",
    "def rc_str2int(string):\n",
    "    value = 0\n",
    "    for index, ch in enumerate(string.upper()):\n",
    "        value += ord(ch) * (10 ** ((len(string) - index - 1) * 2))\n",
    "    return value"
   ]
  },
  {
   "cell_type": "code",
   "execution_count": 14,
   "id": "1c2fc265-052e-4e1a-87d9-b2d877981f19",
   "metadata": {},
   "outputs": [
    {
     "data": {
      "text/plain": [
       "array([[    70837188,     85677452,   6869808472,          669,\n",
       "                   4,            1],\n",
       "       [    70837188,     85677452,   6869808472,          669,\n",
       "                   4,          128],\n",
       "       [    70837188,     85677452,   6869808472,          669,\n",
       "                   4,           64],\n",
       "       [    70837188,   7582877552,   8185798469,          473,\n",
       "                   2,            1],\n",
       "       [    70837188,   7582877552,   8185798469,          473,\n",
       "                   2,           22],\n",
       "       [    70837188,   7582877552,   8185798469,          473,\n",
       "                   2,          954],\n",
       "       [    70837188,            0, 776583846982,          273,\n",
       "                   1,         2000],\n",
       "       [    70837188,            0, 776583846982,          273,\n",
       "                   1,            0]])"
      ]
     },
     "execution_count": 14,
     "metadata": {},
     "output_type": "execute_result"
    }
   ],
   "source": [
    "## For TEST\n",
    "train_data = np.array([[rc_str2int(\"FSGX\"), rc_str2int(\"UCJ4\"), rc_str2int(\"DEPTH\"), 669, 4, 41],\n",
    "                      [rc_str2int(\"FSGX\"), rc_str2int(\"UCJ4\"), rc_str2int(\"DEPTH\"), 669, 4, 45],\n",
    "                     [rc_str2int(\"FSGX\"), rc_str2int(\"UCJ4\"), rc_str2int(\"DEPTH\"), 669, 4, 38],\n",
    "                     [rc_str2int(\"FSGX\"), rc_str2int(\"UCJ4\"), rc_str2int(\"DEPTH\"), 669, 4, 39],\n",
    "                      [rc_str2int(\"FSGX\"), rc_str2int(\"KRWK4\"), rc_str2int(\"QUOTE\"), 473, 2, 25],\n",
    "                      [rc_str2int(\"FSGX\"), rc_str2int(\"KRWK4\"), rc_str2int(\"QUOTE\"), 473, 2, 21],\n",
    "                     [rc_str2int(\"FSGX\"), rc_str2int(\"KRWK4\"), rc_str2int(\"QUOTE\"), 473, 2, 24],\n",
    "                     [rc_str2int(\"FSGX\"), rc_str2int(\"KRWK4\"), rc_str2int(\"QUOTE\"), 473, 2, 27],\n",
    "                      [rc_str2int(\"FSGX\"), 0, rc_str2int(\"MASTER\"), 273, 1, 4096],\n",
    "                      [rc_str2int(\"FSGX\"), 0, rc_str2int(\"MASTER\"), 273, 1, 4097],\n",
    "                     [rc_str2int(\"FSGX\"), 0, rc_str2int(\"MASTER\"), 273, 1, 4098],\n",
    "                     [rc_str2int(\"FSGX\"), 0, rc_str2int(\"MASTER\"), 273, 1, 4098]])\n",
    "\n",
    "real_data = np.array([[rc_str2int(\"FSGX\"), rc_str2int(\"UCJ4\"), rc_str2int(\"DEPTH\"), 669, 4, 1],\n",
    "                      [rc_str2int(\"FSGX\"), rc_str2int(\"UCJ4\"), rc_str2int(\"DEPTH\"), 669, 4, 40],\n",
    "                     [rc_str2int(\"FSGX\"), rc_str2int(\"UCJ4\"), rc_str2int(\"DEPTH\"), 669, 4, 128],\n",
    "                     [rc_str2int(\"FSGX\"), rc_str2int(\"UCJ4\"), rc_str2int(\"DEPTH\"), 669, 4, 64],\n",
    "                     [rc_str2int(\"FSGX\"), rc_str2int(\"KRWK4\"), rc_str2int(\"QUOTE\"), 473, 2, 1],\n",
    "                     [rc_str2int(\"FSGX\"), rc_str2int(\"KRWK4\"), rc_str2int(\"QUOTE\"), 473, 2, 22],\n",
    "                     [rc_str2int(\"FSGX\"), rc_str2int(\"KRWK4\"), rc_str2int(\"QUOTE\"), 473, 2, 954],\n",
    "                     [rc_str2int(\"FSGX\"), 0, rc_str2int(\"MASTER\"), 273, 1, 4098],\n",
    "                      [rc_str2int(\"FSGX\"), 0, rc_str2int(\"MASTER\"), 273, 1, 2000],\n",
    "                     [rc_str2int(\"FSGX\"), 0, rc_str2int(\"MASTER\"), 273, 1, 0],\n",
    "                     [rc_str2int(\"FSGX\"), 0, rc_str2int(\"MASTER\"), 273, 1, 8000],\n",
    "                     [rc_str2int(\"FSGX\"), 0, rc_str2int(\"MASTER\"), 273, 1, 5000]])\n",
    "\n",
    "# Isolation Forest 모델 생성\n",
    "isolation_forest = IsolationForest(contamination=0.5, max_features=6, n_jobs=None, verbose=1, random_state=42)\n",
    "\n",
    "# Train 데이터로 모델 훈련\n",
    "isolation_forest.fit(train_data)\n",
    "\n",
    "# Real 데이터에 대한 이상치 감지\n",
    "predictions = isolation_forest.predict(real_data)\n",
    "\n",
    "# 이상치로 분류된 데이터 확인\n",
    "anomaly_data = real_data[predictions == -1]\n",
    "anomaly_data"
   ]
  }
 ],
 "metadata": {
  "kernelspec": {
   "display_name": "Python 3 (ipykernel)",
   "language": "python",
   "name": "python3"
  },
  "language_info": {
   "codemirror_mode": {
    "name": "ipython",
    "version": 3
   },
   "file_extension": ".py",
   "mimetype": "text/x-python",
   "name": "python",
   "nbconvert_exporter": "python",
   "pygments_lexer": "ipython3",
   "version": "3.10.13"
  }
 },
 "nbformat": 4,
 "nbformat_minor": 5
}
